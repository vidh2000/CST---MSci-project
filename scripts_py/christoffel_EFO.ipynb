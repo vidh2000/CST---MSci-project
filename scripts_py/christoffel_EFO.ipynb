{
 "cells": [
  {
   "cell_type": "code",
   "execution_count": 1,
   "metadata": {},
   "outputs": [],
   "source": [
    "import sympy as smp\n",
    "from einsteinpy.symbolic import MetricTensor, ChristoffelSymbols, RiemannCurvatureTensor\n",
    "\n",
    "smp.init_printing()  # enables the best printing available in an environment"
   ]
  },
  {
   "cell_type": "code",
   "execution_count": 9,
   "metadata": {},
   "outputs": [
    {
     "data": {
      "text/latex": [
       "$\\displaystyle \\left[\\begin{matrix}\\frac{2 M}{r} - 1 & \\frac{2 M}{r} & 0 & 0\\\\\\frac{2 M}{r} & \\frac{2 M}{r} + 1 & 0 & 0\\\\0 & 0 & r^{2} & 0\\\\0 & 0 & 0 & r^{2} \\sin^{2}{\\left(θ \\right)}\\end{matrix}\\right]$"
      ],
      "text/plain": [
       "⎡2⋅M        2⋅M                  ⎤\n",
       "⎢─── - 1    ───    0       0     ⎥\n",
       "⎢ r          r                   ⎥\n",
       "⎢                                ⎥\n",
       "⎢  2⋅M    2⋅M                    ⎥\n",
       "⎢  ───    ─── + 1  0       0     ⎥\n",
       "⎢   r      r                     ⎥\n",
       "⎢                                ⎥\n",
       "⎢                   2            ⎥\n",
       "⎢   0        0     r       0     ⎥\n",
       "⎢                                ⎥\n",
       "⎢                       2    2   ⎥\n",
       "⎣   0        0     0   r ⋅sin (θ)⎦"
      ]
     },
     "execution_count": 9,
     "metadata": {},
     "output_type": "execute_result"
    }
   ],
   "source": [
    "t, r, theta, phi, M = smp.symbols('t r θ φ M')\n",
    "cs = [t, r, theta, phi]\n",
    "\n",
    "g_ij = [[2*M/r-1,    2*M/r   , 0   , 0],\n",
    "               [2*M/r  ,   2*M/r+1  , 0   , 0],\n",
    "               [0      ,      0     , r**2, 0],\n",
    "               [0      ,      0     , 0   , r**2 * (smp.sin(theta))**2]\n",
    "        ]      \n",
    "sch = MetricTensor(g_ij, [t, r, theta, phi])\n",
    "sch.tensor()"
   ]
  },
  {
   "cell_type": "code",
   "execution_count": 11,
   "metadata": {},
   "outputs": [
    {
     "data": {
      "text/latex": [
       "$\\displaystyle \\left[\\begin{matrix}\\frac{- 2 M - r}{r} & \\frac{2 M}{r} & 0 & 0\\\\\\frac{2 M}{r} & \\frac{- 2 M + r}{r} & 0 & 0\\\\0 & 0 & \\frac{1}{r^{2}} & 0\\\\0 & 0 & 0 & \\frac{1}{r^{2} \\sin^{2}{\\left(θ \\right)}}\\end{matrix}\\right]$"
      ],
      "text/plain": [
       "⎡-2⋅M - r    2⋅M                   ⎤\n",
       "⎢────────    ───     0       0     ⎥\n",
       "⎢   r         r                    ⎥\n",
       "⎢                                  ⎥\n",
       "⎢  2⋅M     -2⋅M + r                ⎥\n",
       "⎢  ───     ────────  0       0     ⎥\n",
       "⎢   r         r                    ⎥\n",
       "⎢                                  ⎥\n",
       "⎢                    1             ⎥\n",
       "⎢   0         0      ──      0     ⎥\n",
       "⎢                     2            ⎥\n",
       "⎢                    r             ⎥\n",
       "⎢                                  ⎥\n",
       "⎢                            1     ⎥\n",
       "⎢   0         0      0   ──────────⎥\n",
       "⎢                         2    2   ⎥\n",
       "⎣                        r ⋅sin (θ)⎦"
      ]
     },
     "execution_count": 11,
     "metadata": {},
     "output_type": "execute_result"
    }
   ],
   "source": [
    "sch.inv().tensor().simplify()"
   ]
  },
  {
   "cell_type": "code",
   "execution_count": 12,
   "metadata": {},
   "outputs": [
    {
     "data": {
      "text/latex": [
       "$\\displaystyle \\left[\\begin{matrix}\\left[\\begin{matrix}\\frac{2 M^{2}}{r^{3}} & - \\frac{M \\left(- 2 M - r\\right)}{r^{3}} & 0 & 0\\\\- \\frac{M \\left(- 2 M - r\\right)}{r^{3}} & - \\frac{2 M^{2}}{r^{3}} - \\frac{2 M \\left(- 2 M - r\\right)}{r^{3}} & 0 & 0\\\\0 & 0 & - 2 M & 0\\\\0 & 0 & 0 & - 2 M \\sin^{2}{\\left(θ \\right)}\\end{matrix}\\right] & \\left[\\begin{matrix}\\frac{2 M \\left(- \\frac{M}{r} + \\frac{1}{2}\\right)}{r^{2}} & - \\frac{2 M^{2}}{r^{3}} & 0 & 0\\\\- \\frac{2 M^{2}}{r^{3}} & - \\frac{4 M^{2}}{r^{3}} - \\frac{2 M \\left(- \\frac{M}{r} + \\frac{1}{2}\\right)}{r^{2}} & 0 & 0\\\\0 & 0 & - 2 r \\left(- \\frac{M}{r} + \\frac{1}{2}\\right) & 0\\\\0 & 0 & 0 & - 2 r \\left(- \\frac{M}{r} + \\frac{1}{2}\\right) \\sin^{2}{\\left(θ \\right)}\\end{matrix}\\right] & \\left[\\begin{matrix}0 & 0 & 0 & 0\\\\0 & 0 & \\frac{1}{r} & 0\\\\0 & \\frac{1}{r} & 0 & 0\\\\0 & 0 & 0 & - \\sin{\\left(θ \\right)} \\cos{\\left(θ \\right)}\\end{matrix}\\right] & \\left[\\begin{matrix}0 & 0 & 0 & 0\\\\0 & 0 & 0 & \\frac{1}{r}\\\\0 & 0 & 0 & \\frac{\\cos{\\left(θ \\right)}}{\\sin{\\left(θ \\right)}}\\\\0 & \\frac{1}{r} & \\frac{\\cos{\\left(θ \\right)}}{\\sin{\\left(θ \\right)}} & 0\\end{matrix}\\right]\\end{matrix}\\right]$"
      ],
      "text/plain": [
       "⎡                                                               ⎡    ⎛  M   1⎞\n",
       "⎢                                                               ⎢2⋅M⋅⎜- ─ + ─⎟\n",
       "⎢⎡        2                                                  ⎤  ⎢    ⎝  r   2⎠\n",
       "⎢⎢     2⋅M            -M⋅(-2⋅M - r)                          ⎥  ⎢─────────────\n",
       "⎢⎢     ────           ──────────────        0         0      ⎥  ⎢       2     \n",
       "⎢⎢       3                   3                               ⎥  ⎢      r      \n",
       "⎢⎢      r                   r                                ⎥  ⎢             \n",
       "⎢⎢                                                           ⎥  ⎢             \n",
       "⎢⎢                     2                                     ⎥  ⎢       2     \n",
       "⎢⎢-M⋅(-2⋅M - r)     2⋅M    2⋅M⋅(-2⋅M - r)                    ⎥  ⎢   -2⋅M      \n",
       "⎢⎢──────────────  - ──── - ──────────────   0         0      ⎥  ⎢   ──────    \n",
       "⎢⎢       3            3           3                          ⎥  ⎢      3      \n",
       "⎢⎢      r            r           r                           ⎥  ⎢     r       \n",
       "⎢⎢                                                           ⎥  ⎢             \n",
       "⎢⎢      0                    0             -2⋅M       0      ⎥  ⎢             \n",
       "⎢⎢                                                           ⎥  ⎢      0      \n",
       "⎢⎢                                                       2   ⎥  ⎢             \n",
       "⎢⎣      0                    0              0    -2⋅M⋅sin (θ)⎦  ⎢             \n",
       "⎢                                                               ⎢             \n",
       "⎢                                                               ⎢      0      \n",
       "⎣                                                               ⎣             \n",
       "\n",
       "                                                                ⎤             \n",
       "              2                                                 ⎥             \n",
       "          -2⋅M                                                  ⎥             \n",
       "          ──────                0                   0           ⎥             \n",
       "             3                                                  ⎥             \n",
       "            r                                                   ⎥  ⎡0  0  0   \n",
       "                                                                ⎥  ⎢          \n",
       "               ⎛  M   1⎞                                        ⎥  ⎢      1   \n",
       "       2   2⋅M⋅⎜- ─ + ─⎟                                        ⎥  ⎢0  0  ─   \n",
       "    4⋅M        ⎝  r   2⎠                                        ⎥  ⎢      r   \n",
       "  - ──── - ─────────────        0                   0           ⎥  ⎢          \n",
       "      3           2                                             ⎥  ⎢   1      \n",
       "     r           r                                              ⎥  ⎢0  ─  0   \n",
       "                                                                ⎥  ⎢   r      \n",
       "                               ⎛  M   1⎞                        ⎥  ⎢          \n",
       "            0             -2⋅r⋅⎜- ─ + ─⎟            0           ⎥  ⎣0  0  0  -\n",
       "                               ⎝  r   2⎠                        ⎥             \n",
       "                                                                ⎥             \n",
       "                                               ⎛  M   1⎞    2   ⎥             \n",
       "            0                   0         -2⋅r⋅⎜- ─ + ─⎟⋅sin (θ)⎥             \n",
       "                                               ⎝  r   2⎠        ⎦             \n",
       "\n",
       "                                      ⎤\n",
       "                                      ⎥\n",
       "                                      ⎥\n",
       "                                      ⎥\n",
       "                ⎡0  0    0       0   ⎤⎥\n",
       "     0       ⎤  ⎢                    ⎥⎥\n",
       "             ⎥  ⎢                1   ⎥⎥\n",
       "             ⎥  ⎢0  0    0       ─   ⎥⎥\n",
       "     0       ⎥  ⎢                r   ⎥⎥\n",
       "             ⎥  ⎢                    ⎥⎥\n",
       "             ⎥  ⎢              cos(θ)⎥⎥\n",
       "             ⎥  ⎢0  0    0     ──────⎥⎥\n",
       "     0       ⎥  ⎢              sin(θ)⎥⎥\n",
       "             ⎥  ⎢                    ⎥⎥\n",
       "             ⎥  ⎢   1  cos(θ)        ⎥⎥\n",
       "sin(θ)⋅cos(θ)⎦  ⎢0  ─  ──────    0   ⎥⎥\n",
       "                ⎣   r  sin(θ)        ⎦⎥\n",
       "                                      ⎥\n",
       "                                      ⎥\n",
       "                                      ⎥\n",
       "                                      ⎦"
      ]
     },
     "execution_count": 12,
     "metadata": {},
     "output_type": "execute_result"
    }
   ],
   "source": [
    "sch_ch = ChristoffelSymbols.from_metric(sch)\n",
    "sch_ch.tensor()"
   ]
  },
  {
   "cell_type": "code",
   "execution_count": 13,
   "metadata": {},
   "outputs": [
    {
     "data": {
      "text/latex": [
       "$\\displaystyle \\left[\\begin{matrix}\\left[\\begin{matrix}\\frac{2 M^{2}}{r^{3}} & \\frac{M \\left(2 M + r\\right)}{r^{3}} & 0 & 0\\\\\\frac{M \\left(2 M + r\\right)}{r^{3}} & \\frac{2 M \\left(M + r\\right)}{r^{3}} & 0 & 0\\\\0 & 0 & - 2 M & 0\\\\0 & 0 & 0 & - 2 M \\sin^{2}{\\left(θ \\right)}\\end{matrix}\\right] & \\left[\\begin{matrix}\\frac{M \\left(- 2 M + r\\right)}{r^{3}} & - \\frac{2 M^{2}}{r^{3}} & 0 & 0\\\\- \\frac{2 M^{2}}{r^{3}} & \\frac{M \\left(- 2 M - r\\right)}{r^{3}} & 0 & 0\\\\0 & 0 & 2 M - r & 0\\\\0 & 0 & 0 & \\left(2 M - r\\right) \\sin^{2}{\\left(θ \\right)}\\end{matrix}\\right] & \\left[\\begin{matrix}0 & 0 & 0 & 0\\\\0 & 0 & \\frac{1}{r} & 0\\\\0 & \\frac{1}{r} & 0 & 0\\\\0 & 0 & 0 & - \\frac{\\sin{\\left(2 θ \\right)}}{2}\\end{matrix}\\right] & \\left[\\begin{matrix}0 & 0 & 0 & 0\\\\0 & 0 & 0 & \\frac{1}{r}\\\\0 & 0 & 0 & \\frac{1}{\\tan{\\left(θ \\right)}}\\\\0 & \\frac{1}{r} & \\frac{1}{\\tan{\\left(θ \\right)}} & 0\\end{matrix}\\right]\\end{matrix}\\right]$"
      ],
      "text/plain": [
       "⎡                                                ⎡                     2      \n",
       "⎢⎡      2                                     ⎤  ⎢M⋅(-2⋅M + r)     -2⋅M       \n",
       "⎢⎢   2⋅M       M⋅(2⋅M + r)                    ⎥  ⎢────────────     ──────     \n",
       "⎢⎢   ────      ───────────   0         0      ⎥  ⎢      3             3       \n",
       "⎢⎢     3             3                        ⎥  ⎢     r             r        \n",
       "⎢⎢    r             r                         ⎥  ⎢                            \n",
       "⎢⎢                                            ⎥  ⎢       2                    \n",
       "⎢⎢M⋅(2⋅M + r)  2⋅M⋅(M + r)                    ⎥  ⎢   -2⋅M       M⋅(-2⋅M - r)  \n",
       "⎢⎢───────────  ───────────   0         0      ⎥  ⎢   ──────     ────────────  \n",
       "⎢⎢      3            3                        ⎥  ⎢      3             3       \n",
       "⎢⎢     r            r                         ⎥  ⎢     r             r        \n",
       "⎢⎢                                            ⎥  ⎢                            \n",
       "⎢⎢     0            0       -2⋅M       0      ⎥  ⎢     0             0        \n",
       "⎢⎢                                            ⎥  ⎢                            \n",
       "⎢⎢                                        2   ⎥  ⎢                            \n",
       "⎣⎣     0            0        0    -2⋅M⋅sin (θ)⎦  ⎣     0             0        \n",
       "\n",
       "                          ⎤                                               ⎤\n",
       "                          ⎥                                               ⎥\n",
       "   0             0        ⎥  ⎡0  0  0      0     ⎤  ⎡0  0    0       0   ⎤⎥\n",
       "                          ⎥  ⎢                   ⎥  ⎢                    ⎥⎥\n",
       "                          ⎥  ⎢      1            ⎥  ⎢                1   ⎥⎥\n",
       "                          ⎥  ⎢0  0  ─      0     ⎥  ⎢0  0    0       ─   ⎥⎥\n",
       "                          ⎥  ⎢      r            ⎥  ⎢                r   ⎥⎥\n",
       "                          ⎥  ⎢                   ⎥  ⎢                    ⎥⎥\n",
       "   0             0        ⎥  ⎢   1               ⎥  ⎢                1   ⎥⎥\n",
       "                          ⎥  ⎢0  ─  0      0     ⎥  ⎢0  0    0     ──────⎥⎥\n",
       "                          ⎥  ⎢   r               ⎥  ⎢              tan(θ)⎥⎥\n",
       "                          ⎥  ⎢                   ⎥  ⎢                    ⎥⎥\n",
       "2⋅M - r          0        ⎥  ⎢         -sin(2⋅θ) ⎥  ⎢   1    1           ⎥⎥\n",
       "                          ⎥  ⎢0  0  0  ──────────⎥  ⎢0  ─  ──────    0   ⎥⎥\n",
       "                      2   ⎥  ⎣             2     ⎦  ⎣   r  tan(θ)        ⎦⎥\n",
       "   0     (2⋅M - r)⋅sin (θ)⎦                                               ⎦"
      ]
     },
     "execution_count": 13,
     "metadata": {},
     "output_type": "execute_result"
    }
   ],
   "source": [
    "simplified = sch_ch.simplify()\n",
    "simplified"
   ]
  }
 ],
 "metadata": {
  "kernelspec": {
   "display_name": "Quantum",
   "language": "python",
   "name": "python3"
  },
  "language_info": {
   "codemirror_mode": {
    "name": "ipython",
    "version": 3
   },
   "file_extension": ".py",
   "mimetype": "text/x-python",
   "name": "python",
   "nbconvert_exporter": "python",
   "pygments_lexer": "ipython3",
   "version": "3.10.4"
  }
 },
 "nbformat": 4,
 "nbformat_minor": 2
}
